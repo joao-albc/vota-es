{
  "nbformat": 4,
  "nbformat_minor": 0,
  "metadata": {
    "colab": {
      "name": "LDO_2022.ipynb",
      "provenance": [],
      "collapsed_sections": [],
      "authorship_tag": "ABX9TyNA98ANAlneJYrBe1e4vtaI",
      "include_colab_link": true
    },
    "kernelspec": {
      "name": "python3",
      "display_name": "Python 3"
    },
    "language_info": {
      "name": "python"
    }
  },
  "cells": [
    {
      "cell_type": "markdown",
      "metadata": {
        "id": "view-in-github",
        "colab_type": "text"
      },
      "source": [
        "<a href=\"https://colab.research.google.com/github/joao-albc/votos-publicos/blob/main/LDO_2022.ipynb\" target=\"_parent\"><img src=\"https://colab.research.google.com/assets/colab-badge.svg\" alt=\"Open In Colab\"/></a>"
      ]
    },
    {
      "cell_type": "markdown",
      "metadata": {
        "id": "Xp1SIci54NzC"
      },
      "source": [
        "**<h1>Objetivo</h1>**"
      ]
    },
    {
      "cell_type": "markdown",
      "metadata": {
        "id": "5DDyYXjZ3JV6"
      },
      "source": [
        ""
      ]
    },
    {
      "cell_type": "markdown",
      "metadata": {
        "id": "hUwC9qJj3LeA"
      },
      "source": [
        "Na sexta-feira (16/07/2021) uma matéria ganhou notoriedade ao informar que os deputados no país votaram, em sua maioria, a favor do aumento das diretrizes orçamentárias para o ano de 2022. Quando abri a matéria do **UOL** dentro da parte de enonomia, senti falta de comunicar visualmente a distribuição dos votos. Para treino de expressões regulares e visualização de dados, montei este notebook e o dashboard."
      ]
    },
    {
      "cell_type": "markdown",
      "metadata": {
        "id": "x6s6O8VSUrnw"
      },
      "source": [
        "**<h1>Visualização</h1>**"
      ]
    },
    {
      "cell_type": "markdown",
      "metadata": {
        "id": "qeG90B-5Uu_s"
      },
      "source": [
        "Adianto aqui a visualização interativa através do **Google Data Studio**. A escolha desta ferramenta venho por eu acreditar que ela é uma das mais democrática para aqueles que não tem grande próximidade com dashboards e tecnologia.\n",
        "\n",
        "Link:\n",
        "\n",
        "> *https://datastudio.google.com/reporting/c39673c4-d2dc-4b3d-9160-067565600f8e*\n",
        "\n"
      ]
    },
    {
      "cell_type": "markdown",
      "metadata": {
        "id": "pkKcW3zA4VL4"
      },
      "source": [
        "**<h1>Importando de bibliotecas</h1>**"
      ]
    },
    {
      "cell_type": "code",
      "metadata": {
        "id": "rnpjGrejkJo9"
      },
      "source": [
        "import bs4\n",
        "import urllib.request as urllib_request\n",
        "import pandas as pd\n",
        "import re\n",
        "import numpy as np"
      ],
      "execution_count": null,
      "outputs": []
    },
    {
      "cell_type": "markdown",
      "metadata": {
        "id": "Vn3JPAZx4hGb"
      },
      "source": [
        "**<h1>Extração dos dados</h1>**"
      ]
    },
    {
      "cell_type": "code",
      "metadata": {
        "id": "GxsgUwW8kZLg"
      },
      "source": [
        "from urllib.request import urlopen\n",
        "from bs4 import BeautifulSoup\n",
        "\n",
        "url = 'https://economia.uol.com.br/noticias/redacao/2021/07/15/veja-como-deputados-votaram-lei-de-diretrizes-orcamentarias-2022.htm'\n",
        "\n",
        "response = urlopen(url)\n",
        "html = response.read()\n",
        "\n",
        "soup = BeautifulSoup(html, 'html.parser')"
      ],
      "execution_count": null,
      "outputs": []
    },
    {
      "cell_type": "markdown",
      "metadata": {
        "id": "xqwg_aBh4lQw"
      },
      "source": [
        "**<h2>Sessão de dentro do HTML</h2>**"
      ]
    },
    {
      "cell_type": "code",
      "metadata": {
        "id": "0e-jxONXl3Ni"
      },
      "source": [
        "#VOTOS\n",
        "votos = soup.find('div', {'class':'text '},'ul').find_all('li')"
      ],
      "execution_count": null,
      "outputs": []
    },
    {
      "cell_type": "markdown",
      "metadata": {
        "id": "M86jc2mX4ry3"
      },
      "source": [
        "**<h2>Separando e organizando os dados para um Data Frame</h2>**"
      ]
    },
    {
      "cell_type": "code",
      "metadata": {
        "id": "52WnFjqt6m3b"
      },
      "source": [
        "nome = []\n",
        "partido = []\n",
        "estado = []\n",
        "voto = []\n",
        "c = 0\n",
        "for i in votos:\n",
        "  #Elementos de voto\n",
        "  n = re.search('(#?li>)(.*)\\((.*)-(.+)\\).*-(.*)</li',str(votos[c]))\n",
        "  nome.append(n.group(2))\n",
        "  partido.append(n.group(3))\n",
        "  estado.append(n.group(4))\n",
        "  voto.append(n.group(5))\n",
        "  c+=1"
      ],
      "execution_count": null,
      "outputs": []
    },
    {
      "cell_type": "code",
      "metadata": {
        "id": "kYiceq9vKj6W"
      },
      "source": [
        "#Estados_nome\n",
        "\n",
        "estados_nome = []\n",
        "for i in soup.find('div', {'class':'text '},'ul').find_all('p')[8:]:\n",
        "  estados_nome.append(re.search('<strong>(.*)</strong>',str(i)).group(1))"
      ],
      "execution_count": null,
      "outputs": []
    },
    {
      "cell_type": "code",
      "metadata": {
        "id": "7CRrRGZzTFwR"
      },
      "source": [
        "#Estados_sigla\n",
        "estado_sigla = []\n",
        "for i in pd.unique(estado):\n",
        "  estado_sigla.append(i)\n",
        "estado_sigla"
      ],
      "execution_count": null,
      "outputs": []
    },
    {
      "cell_type": "code",
      "metadata": {
        "id": "CbqAeuLQZY4I"
      },
      "source": [
        "#Regiões\n",
        "\n",
        "nome_da_regiao =[]\n",
        "c = 0\n",
        "for i in estado:\n",
        "  nome_do_estado.append(unidades[estado[c]])\n",
        "  c+=1\n",
        "nome_do_estado"
      ],
      "execution_count": null,
      "outputs": []
    },
    {
      "cell_type": "code",
      "metadata": {
        "colab": {
          "base_uri": "https://localhost:8080/"
        },
        "id": "mui5eUqaDGak",
        "outputId": "873e6ffb-4f63-4137-8e1f-9483a3436450"
      },
      "source": [
        "estados_nome"
      ],
      "execution_count": null,
      "outputs": [
        {
          "output_type": "execute_result",
          "data": {
            "text/plain": [
              "['Acre',\n",
              " 'Alagoas',\n",
              " 'Amapá',\n",
              " 'Amazonas',\n",
              " 'Bahia',\n",
              " 'Ceará',\n",
              " 'Distrito Federal',\n",
              " 'Espirito Santo',\n",
              " 'Goiás',\n",
              " 'Maranhão',\n",
              " 'Mato Grosso',\n",
              " 'Mato Grosso do Sul',\n",
              " 'Minas Gerais',\n",
              " 'Pará',\n",
              " 'Paraíba',\n",
              " 'Paraná',\n",
              " 'Pernambuco',\n",
              " 'Piauí',\n",
              " 'Rio de Janeiro',\n",
              " 'Rio Grande do Norte',\n",
              " 'Rio Grande do Sul',\n",
              " 'Rondônia',\n",
              " 'Roraima',\n",
              " 'Santa Catarina',\n",
              " 'São Paulo',\n",
              " 'Sergipe',\n",
              " 'Tocantins']"
            ]
          },
          "metadata": {
            "tags": []
          },
          "execution_count": 27
        }
      ]
    },
    {
      "cell_type": "code",
      "metadata": {
        "id": "IY8Aua4WQzT3"
      },
      "source": [
        "#Criando o dicionário Unidades da Federação\n",
        "\n",
        "unidades = {}\n",
        "c = 0\n",
        "for i in estado_sigla:\n",
        "  # unidades.add(estado_sigla[c]:estados_nome[c])\n",
        "  unidades[estado_sigla[c]] = estados_nome[c]\n",
        "  c+=1\n",
        "unidades"
      ],
      "execution_count": null,
      "outputs": []
    },
    {
      "cell_type": "code",
      "metadata": {
        "colab": {
          "base_uri": "https://localhost:8080/"
        },
        "id": "S0rnEB2g0SAn",
        "outputId": "4d6094df-b693-4795-9541-5ba5f20ebeca"
      },
      "source": [
        "np.unique(nome_do_estado)"
      ],
      "execution_count": null,
      "outputs": [
        {
          "output_type": "execute_result",
          "data": {
            "text/plain": [
              "array(['Acre', 'Alagoas', 'Amapá', 'Amazonas', 'Bahia', 'Ceará',\n",
              "       'Distrito Federal', 'Espirito Santo', 'Goiás', 'Maranhão',\n",
              "       'Mato Grosso', 'Mato Grosso do Sul', 'Minas Gerais', 'Paraná',\n",
              "       'Paraíba', 'Pará', 'Pernambuco', 'Piauí', 'Rio Grande do Norte',\n",
              "       'Rio Grande do Sul', 'Rio de Janeiro', 'Rondônia', 'Roraima',\n",
              "       'Santa Catarina', 'Sergipe', 'São Paulo', 'Tocantins'],\n",
              "      dtype='<U19')"
            ]
          },
          "metadata": {
            "tags": []
          },
          "execution_count": 32
        }
      ]
    },
    {
      "cell_type": "code",
      "metadata": {
        "id": "ltU-7BH-9C-C"
      },
      "source": [
        "#Regiões pegas manualmente \n",
        "\n",
        "regiao = ['Norte','Nordeste','Norte','Norte','Nordeste', 'Nordeste',\n",
        "       'Centro-oeste', 'Sudeste', 'Centro-oeste', 'Nordeste',\n",
        "       'Centro-oeste', 'Centro-oeste', 'Sudeste', 'Sul',\n",
        "       'Nordeste', 'Norte', 'Nordeste', 'Nordeste', 'Nordeste',\n",
        "       'Sul', 'Sudeste', 'Norte', 'Norte',\n",
        "       'Sul', 'Nordeste', 'Sudeste', 'Norte'] "
      ],
      "execution_count": null,
      "outputs": []
    },
    {
      "cell_type": "code",
      "metadata": {
        "id": "Uya9X1P1_1QE"
      },
      "source": [
        "#Criando o dicionário das regiões do país\n",
        "\n",
        "regioes = {}\n",
        "c = 0\n",
        "for i in estados_nome:\n",
        "  regioes[estados_nome[c]] = regiao[c]\n",
        "  c+=1\n",
        "regioes"
      ],
      "execution_count": null,
      "outputs": []
    },
    {
      "cell_type": "code",
      "metadata": {
        "id": "lax0ihz3AHTW"
      },
      "source": [
        "nome_regiao_do_pais = []\n",
        "c = 0\n",
        "for i in estado:\n",
        "  nome_regiao_do_pais.append(regioes[nome_do_estado[c]])\n",
        "  c+=1\n",
        "nome_regiao_do_pais"
      ],
      "execution_count": null,
      "outputs": []
    },
    {
      "cell_type": "markdown",
      "metadata": {
        "id": "srYdOOJW42O0"
      },
      "source": [
        "**<h2>Criação do Data Frame</h2>**"
      ]
    },
    {
      "cell_type": "code",
      "metadata": {
        "id": "-n1AVo0H8qeM"
      },
      "source": [
        "votacao_LDO_2022 = {'Nome':nome,'Partido':partido,'Sigla Estado UF':estado,'Nome Estado UF':nome_do_estado,'Nome Região País':nome_regiao_do_pais,'Voto':voto}\n",
        "\n",
        "votacao_LDO_2022 = pd.DataFrame(votacao_LDO_2022)"
      ],
      "execution_count": null,
      "outputs": []
    },
    {
      "cell_type": "code",
      "metadata": {
        "id": "0YJ1iipEEVGw",
        "colab": {
          "base_uri": "https://localhost:8080/",
          "height": 424
        },
        "outputId": "35d4a9b7-6ed9-4d84-eb9a-062504526008"
      },
      "source": [
        "votacao_LDO_2022"
      ],
      "execution_count": null,
      "outputs": [
        {
          "output_type": "execute_result",
          "data": {
            "text/html": [
              "<div>\n",
              "<style scoped>\n",
              "    .dataframe tbody tr th:only-of-type {\n",
              "        vertical-align: middle;\n",
              "    }\n",
              "\n",
              "    .dataframe tbody tr th {\n",
              "        vertical-align: top;\n",
              "    }\n",
              "\n",
              "    .dataframe thead th {\n",
              "        text-align: right;\n",
              "    }\n",
              "</style>\n",
              "<table border=\"1\" class=\"dataframe\">\n",
              "  <thead>\n",
              "    <tr style=\"text-align: right;\">\n",
              "      <th></th>\n",
              "      <th>Nome</th>\n",
              "      <th>Partido</th>\n",
              "      <th>Sigla Estado UF</th>\n",
              "      <th>Nome Estado UF</th>\n",
              "      <th>Nome Região País</th>\n",
              "      <th>Voto</th>\n",
              "    </tr>\n",
              "  </thead>\n",
              "  <tbody>\n",
              "    <tr>\n",
              "      <th>0</th>\n",
              "      <td>Alan Rick</td>\n",
              "      <td>DEM</td>\n",
              "      <td>AC</td>\n",
              "      <td>Acre</td>\n",
              "      <td>Norte</td>\n",
              "      <td>SIM</td>\n",
              "    </tr>\n",
              "    <tr>\n",
              "      <th>1</th>\n",
              "      <td>Dra. Vanda Milani</td>\n",
              "      <td>Solidariedade</td>\n",
              "      <td>AC</td>\n",
              "      <td>Acre</td>\n",
              "      <td>Norte</td>\n",
              "      <td>SEM VOTO</td>\n",
              "    </tr>\n",
              "    <tr>\n",
              "      <th>2</th>\n",
              "      <td>Flaviano Melo</td>\n",
              "      <td>MDB</td>\n",
              "      <td>AC</td>\n",
              "      <td>Acre</td>\n",
              "      <td>Norte</td>\n",
              "      <td>SIM</td>\n",
              "    </tr>\n",
              "    <tr>\n",
              "      <th>3</th>\n",
              "      <td>Jéssica Sales</td>\n",
              "      <td>MDB</td>\n",
              "      <td>AC</td>\n",
              "      <td>Acre</td>\n",
              "      <td>Norte</td>\n",
              "      <td>SEM VOTO</td>\n",
              "    </tr>\n",
              "    <tr>\n",
              "      <th>4</th>\n",
              "      <td>Jesus Sérgio</td>\n",
              "      <td>PDT</td>\n",
              "      <td>AC</td>\n",
              "      <td>Acre</td>\n",
              "      <td>Norte</td>\n",
              "      <td>SEM VOTO</td>\n",
              "    </tr>\n",
              "    <tr>\n",
              "      <th>...</th>\n",
              "      <td>...</td>\n",
              "      <td>...</td>\n",
              "      <td>...</td>\n",
              "      <td>...</td>\n",
              "      <td>...</td>\n",
              "      <td>...</td>\n",
              "    </tr>\n",
              "    <tr>\n",
              "      <th>508</th>\n",
              "      <td>Eli Borges</td>\n",
              "      <td>Solidariedade</td>\n",
              "      <td>TO</td>\n",
              "      <td>Tocantins</td>\n",
              "      <td>Norte</td>\n",
              "      <td>SEM VOTO</td>\n",
              "    </tr>\n",
              "    <tr>\n",
              "      <th>509</th>\n",
              "      <td>Osires Damaso</td>\n",
              "      <td>PSC</td>\n",
              "      <td>TO</td>\n",
              "      <td>Tocantins</td>\n",
              "      <td>Norte</td>\n",
              "      <td>SIM</td>\n",
              "    </tr>\n",
              "    <tr>\n",
              "      <th>510</th>\n",
              "      <td>Profª Dorinha</td>\n",
              "      <td>DEM</td>\n",
              "      <td>TO</td>\n",
              "      <td>Tocantins</td>\n",
              "      <td>Norte</td>\n",
              "      <td>SIM</td>\n",
              "    </tr>\n",
              "    <tr>\n",
              "      <th>511</th>\n",
              "      <td>Tiago Dimas</td>\n",
              "      <td>Solidariedade</td>\n",
              "      <td>TO</td>\n",
              "      <td>Tocantins</td>\n",
              "      <td>Norte</td>\n",
              "      <td>SIM</td>\n",
              "    </tr>\n",
              "    <tr>\n",
              "      <th>512</th>\n",
              "      <td>Vicentinho Júnior</td>\n",
              "      <td>PL</td>\n",
              "      <td>TO</td>\n",
              "      <td>Tocantins</td>\n",
              "      <td>Norte</td>\n",
              "      <td>SIM</td>\n",
              "    </tr>\n",
              "  </tbody>\n",
              "</table>\n",
              "<p>513 rows × 6 columns</p>\n",
              "</div>"
            ],
            "text/plain": [
              "                   Nome        Partido  ... Nome Região País       Voto\n",
              "0            Alan Rick             DEM  ...            Norte        SIM\n",
              "1    Dra. Vanda Milani   Solidariedade  ...            Norte   SEM VOTO\n",
              "2        Flaviano Melo             MDB  ...            Norte        SIM\n",
              "3        Jéssica Sales             MDB  ...            Norte   SEM VOTO\n",
              "4         Jesus Sérgio             PDT  ...            Norte   SEM VOTO\n",
              "..                  ...            ...  ...              ...        ...\n",
              "508         Eli Borges   Solidariedade  ...            Norte   SEM VOTO\n",
              "509      Osires Damaso             PSC  ...            Norte        SIM\n",
              "510      Profª Dorinha             DEM  ...            Norte        SIM\n",
              "511        Tiago Dimas   Solidariedade  ...            Norte        SIM\n",
              "512  Vicentinho Júnior              PL  ...            Norte        SIM\n",
              "\n",
              "[513 rows x 6 columns]"
            ]
          },
          "metadata": {
            "tags": []
          },
          "execution_count": 35
        }
      ]
    },
    {
      "cell_type": "code",
      "metadata": {
        "id": "CccP5ZW8OEo_"
      },
      "source": [
        "votacao_LDO_2022.to_csv('votacao_LDO_2022.csv',header=True, index_label=True)"
      ],
      "execution_count": null,
      "outputs": []
    }
  ]
}